{
 "cells":[
  {
   "cell_type":"code",
   "source":[
    "import praw\n",
    "import prawcore\n",
    "import time\n",
    "import pandas as pd"
   ],
   "execution_count":1,
   "outputs":[
    
   ],
   "metadata":{
    "datalore":{
     "node_id":"ZYRfaWYQc3Xs8fsl3HpG54",
     "type":"CODE",
     "hide_input_from_viewers":true,
     "hide_output_from_viewers":true
    }
   }
  },
  {
   "cell_type":"code",
   "source":[
    "# https:\/\/praw.readthedocs.io\/en\/stable\/code_overview\/models\/subreddit.html \n",
    "# Get the posts for the given subreddit_list with limits(default=1000) and given time_filter\n",
    "\n",
    "def get_top_posts(subreddit_list='networking', limit=1000, time_filter=\"all\"):\n",
    "\n",
    "    posts= reddit.subreddit(subreddit_list).top(time_filter=time_filter, limit=limit)\n",
    "\n",
    "    #Initialize posts dataframe\n",
    "    posts_dataframe = []\n",
    "\n",
    "    for post in posts:\n",
    "        posts_dataframe.append({'post_id': post.id,\n",
    "                                'subreddit': post.subreddit,\n",
    "                                'created_utc': post.created_utc,\n",
    "                                'selftext': post.selftext,\n",
    "                                'post_url': post.url,\n",
    "                                'post_title': post.title,\n",
    "                                'link_flair_text': post.link_flair_text,\n",
    "                                'score': post.score,\n",
    "                                'num_comments': post.num_comments,\n",
    "                                'upvote_ratio': post.upvote_ratio\n",
    "                                })\n",
    "    \n",
    "    return pd.DataFrame(posts_dataframe)\n",
    "\n",
    "    # Read-only reddit instance\n",
    "reddit = praw.Reddit(client_id='jGxOucIi1cmFrWL5q8nNQA',\n",
    "                    client_secret='1UU0xzl6D-u3VRKDo72S2rhxsgqbqA',\n",
    "                    redirect_uri=\"http:\/\/localhost:8080\",\n",
    "                    user_agent='kombat10')\n",
    "\n",
    "# Extract Networking posts into a CSV file\n",
    "posts_df_networking = get_top_posts(subreddit_list='networking', limit=1000, time_filter='all')\n",
    "posts_df_networking.to_csv('Networking_posts.csv', header=True, index=False)\n",
    "\n",
    "# Extract velocloud posts into a CSV file\n",
    "posts_df_velocloud = get_top_posts(subreddit_list='velocloud', limit=1000, time_filter='all')\n",
    "posts_df_velocloud.to_csv('Velocloud_posts.csv', header=True, index=False)\n",
    "\n",
    "# Extract sysadmin posts into a CSV file\n",
    "posts_df_sysadmin = get_top_posts(subreddit_list='sysadmin', limit=1000, time_filter='all')\n",
    "posts_df_sysadmin.to_csv('Sysadmin_posts.csv', header=True, index=False)"
   ],
   "execution_count":6,
   "outputs":[
    
   ],
   "metadata":{
    "datalore":{
     "node_id":"FSMx9in1NHMKrQWPp6vEHT",
     "type":"CODE",
     "hide_input_from_viewers":true,
     "hide_output_from_viewers":true
    }
   }
  },
  {
   "cell_type":"code",
   "source":[
    "# https:\/\/praw.readthedocs.io\/en\/stable\/tutorials\/comments.html\n",
    "# Get comments for all posts\n",
    "\n",
    "def get_comments(posts_df):\n",
    "    comments_list = []\n",
    "\n",
    "    for post_id in posts_df['post_id']:\n",
    "        while True:\n",
    "            try:\n",
    "                submission = reddit.submission(post_id)\n",
    "                submission.comments.replace_more(limit=None)\n",
    "                for comment in submission.comments.list():\n",
    "                    comments_list.append({'post_id': post_id, 'comment': comment.body})\n",
    "                break\n",
    "            except prawcore.exceptions.ServerError:\n",
    "                print(\"Server error, sleeping for 60 seconds...\")\n",
    "                time.sleep(60)\n",
    "    \n",
    "    return comments_list"
   ],
   "execution_count":9,
   "outputs":[
    
   ],
   "metadata":{
    "datalore":{
     "node_id":"DLR31ToHctWQ9E0C8qew7n",
     "type":"CODE",
     "hide_input_from_viewers":true,
     "hide_output_from_viewers":true
    }
   }
  },
  {
   "cell_type":"code",
   "source":[
    "# Create dataframe for r\\Velocloud comments\n",
    "comments_velocloud = get_comments(posts_df_velocloud)\n",
    "comments_velo_df = pd.DataFrame(comments_velocloud)\n",
    "comments_velo_df.to_csv('Velocloud_comments.csv', header=True, index=False)\n",
    "comments_velo_df"
   ],
   "execution_count":10,
   "outputs":[
    {
     "data":{
      "text\/html":[
       "<div>\n",
       "<style scoped>\n",
       "    .dataframe tbody tr th:only-of-type {\n",
       "        vertical-align: middle;\n",
       "    }\n",
       "\n",
       "    .dataframe tbody tr th {\n",
       "        vertical-align: top;\n",
       "    }\n",
       "\n",
       "    .dataframe thead th {\n",
       "        text-align: right;\n",
       "    }\n",
       "<\/style>\n",
       "<table border=\"1\" class=\"dataframe\">\n",
       "  <thead>\n",
       "    <tr style=\"text-align: right;\">\n",
       "      <th><\/th>\n",
       "      <th>post_id<\/th>\n",
       "      <th>comment<\/th>\n",
       "    <\/tr>\n",
       "  <\/thead>\n",
       "  <tbody>\n",
       "    <tr>\n",
       "      <th>0<\/th>\n",
       "      <td>ok6jqx<\/td>\n",
       "      <td>It really depends. I‘m working for an MSP and,...<\/td>\n",
       "    <\/tr>\n",
       "    <tr>\n",
       "      <th>1<\/th>\n",
       "      <td>ok6jqx<\/td>\n",
       "      <td>Not a fan of Rapidscale (Cox). Can’t wait for ...<\/td>\n",
       "    <\/tr>\n",
       "    <tr>\n",
       "      <th>2<\/th>\n",
       "      <td>ok6jqx<\/td>\n",
       "      <td>We tried to start with Videns, but felt it fel...<\/td>\n",
       "    <\/tr>\n",
       "    <tr>\n",
       "      <th>3<\/th>\n",
       "      <td>ok6jqx<\/td>\n",
       "      <td>Would love to hear about an actual MSP worth t...<\/td>\n",
       "    <\/tr>\n",
       "    <tr>\n",
       "      <th>4<\/th>\n",
       "      <td>ok6jqx<\/td>\n",
       "      <td>Who are you looking to replace them with?<\/td>\n",
       "    <\/tr>\n",
       "    <tr>\n",
       "      <th>...<\/th>\n",
       "      <td>...<\/td>\n",
       "      <td>...<\/td>\n",
       "    <\/tr>\n",
       "    <tr>\n",
       "      <th>379<\/th>\n",
       "      <td>ezxgq3<\/td>\n",
       "      <td>Hi, yes there is a ssh Server running in the VCE.<\/td>\n",
       "    <\/tr>\n",
       "    <tr>\n",
       "      <th>380<\/th>\n",
       "      <td>ezxgq3<\/td>\n",
       "      <td>You can SSH to the edge before activation, yes...<\/td>\n",
       "    <\/tr>\n",
       "    <tr>\n",
       "      <th>381<\/th>\n",
       "      <td>ezxgq3<\/td>\n",
       "      <td>I was trying to modify \/etc\/ssh\/sshd\\_config ,...<\/td>\n",
       "    <\/tr>\n",
       "    <tr>\n",
       "      <th>382<\/th>\n",
       "      <td>ezxgq3<\/td>\n",
       "      <td>Before activation?<\/td>\n",
       "    <\/tr>\n",
       "    <tr>\n",
       "      <th>383<\/th>\n",
       "      <td>ezxgq3<\/td>\n",
       "      <td>Yes. For automating login pre activation.<\/td>\n",
       "    <\/tr>\n",
       "  <\/tbody>\n",
       "<\/table>\n",
       "<p>384 rows × 2 columns<\/p>\n",
       "<\/div>"
      ]
     },
     "metadata":{
      
     },
     "output_type":"display_data"
    }
   ],
   "metadata":{
    "datalore":{
     "node_id":"uGMOn2cXILySgbFm5xvJd6",
     "type":"CODE",
     "hide_input_from_viewers":true,
     "hide_output_from_viewers":true
    }
   }
  },
  {
   "cell_type":"code",
   "source":[
    "# Create dataframe for r\\networking comments\n",
    "comments_networking = get_comments(posts_df_networking)\n",
    "comments_networking_df = pd.DataFrame(comments_networking)\n",
    "comments_networking_df.to_csv('Networking_comments.csv', header=True, index=False)\n",
    "comments_networking_df"
   ],
   "execution_count":11,
   "outputs":[
    {
     "data":{
      "text\/html":[
       "<div>\n",
       "<style scoped>\n",
       "    .dataframe tbody tr th:only-of-type {\n",
       "        vertical-align: middle;\n",
       "    }\n",
       "\n",
       "    .dataframe tbody tr th {\n",
       "        vertical-align: top;\n",
       "    }\n",
       "\n",
       "    .dataframe thead th {\n",
       "        text-align: right;\n",
       "    }\n",
       "<\/style>\n",
       "<table border=\"1\" class=\"dataframe\">\n",
       "  <thead>\n",
       "    <tr style=\"text-align: right;\">\n",
       "      <th><\/th>\n",
       "      <th>post_id<\/th>\n",
       "      <th>comment<\/th>\n",
       "    <\/tr>\n",
       "  <\/thead>\n",
       "  <tbody>\n",
       "    <tr>\n",
       "      <th>0<\/th>\n",
       "      <td>1zhrd6<\/td>\n",
       "      <td>How's it look now?<\/td>\n",
       "    <\/tr>\n",
       "    <tr>\n",
       "      <th>1<\/th>\n",
       "      <td>1zhrd6<\/td>\n",
       "      <td>1     4 ms    &lt;1 ms     9 ms  Cisco76839 [19...<\/td>\n",
       "    <\/tr>\n",
       "    <tr>\n",
       "      <th>2<\/th>\n",
       "      <td>1zhrd6<\/td>\n",
       "      <td>Which ISP do you work for?  I live in Seattle ...<\/td>\n",
       "    <\/tr>\n",
       "    <tr>\n",
       "      <th>3<\/th>\n",
       "      <td>1zhrd6<\/td>\n",
       "      <td>Howdy I am a resident in Duvall outside of Sea...<\/td>\n",
       "    <\/tr>\n",
       "    <tr>\n",
       "      <th>4<\/th>\n",
       "      <td>1zhrd6<\/td>\n",
       "      <td>Is it sad that this kind of made me tear up?<\/td>\n",
       "    <\/tr>\n",
       "    <tr>\n",
       "      <th>...<\/th>\n",
       "      <td>...<\/td>\n",
       "      <td>...<\/td>\n",
       "    <\/tr>\n",
       "    <tr>\n",
       "      <th>106213<\/th>\n",
       "      <td>ljh1nd<\/td>\n",
       "      <td>That's like saying you know football players m...<\/td>\n",
       "    <\/tr>\n",
       "    <tr>\n",
       "      <th>106214<\/th>\n",
       "      <td>ljh1nd<\/td>\n",
       "      <td>It's misleading because that's the exception r...<\/td>\n",
       "    <\/tr>\n",
       "    <tr>\n",
       "      <th>106215<\/th>\n",
       "      <td>ljh1nd<\/td>\n",
       "      <td>I find the 1000 person mark is large enough yo...<\/td>\n",
       "    <\/tr>\n",
       "    <tr>\n",
       "      <th>106216<\/th>\n",
       "      <td>ljh1nd<\/td>\n",
       "      <td>I work in tech, we've had or have offices in B...<\/td>\n",
       "    <\/tr>\n",
       "    <tr>\n",
       "      <th>106217<\/th>\n",
       "      <td>ljh1nd<\/td>\n",
       "      <td>Compensation in salary is not the full picture...<\/td>\n",
       "    <\/tr>\n",
       "  <\/tbody>\n",
       "<\/table>\n",
       "<p>106218 rows × 2 columns<\/p>\n",
       "<\/div>"
      ]
     },
     "metadata":{
      
     },
     "output_type":"display_data"
    }
   ],
   "metadata":{
    "datalore":{
     "node_id":"U4Knspx9GhmCPv62F21SxD",
     "type":"CODE",
     "hide_input_from_viewers":true,
     "hide_output_from_viewers":true
    }
   }
  },
  {
   "cell_type":"code",
   "source":[
    "# Create dataframe for r\\sysadmin comments\n",
    "comments_sysadmin = get_comments(posts_df_sysadmin)\n",
    "comments_sysadmin_df = pd.DataFrame(comments_sysadmin)\n",
    "comments_sysadmin_df.to_csv('Sysadmin_comments.csv', header=True, index=False)\n",
    "comments_sysadmin_df"
   ],
   "execution_count":12,
   "outputs":[
    {
     "name":"stdout",
     "text":[
      "Server error, sleeping for 60 seconds...\n"
     ],
     "output_type":"stream"
    },
    {
     "data":{
      "text\/html":[
       "<div>\n",
       "<style scoped>\n",
       "    .dataframe tbody tr th:only-of-type {\n",
       "        vertical-align: middle;\n",
       "    }\n",
       "\n",
       "    .dataframe tbody tr th {\n",
       "        vertical-align: top;\n",
       "    }\n",
       "\n",
       "    .dataframe thead th {\n",
       "        text-align: right;\n",
       "    }\n",
       "<\/style>\n",
       "<table border=\"1\" class=\"dataframe\">\n",
       "  <thead>\n",
       "    <tr style=\"text-align: right;\">\n",
       "      <th><\/th>\n",
       "      <th>post_id<\/th>\n",
       "      <th>comment<\/th>\n",
       "    <\/tr>\n",
       "  <\/thead>\n",
       "  <tbody>\n",
       "    <tr>\n",
       "      <th>0<\/th>\n",
       "      <td>zeo31j<\/td>\n",
       "      <td>Had me going in the first half, I'll admit\\n\\n...<\/td>\n",
       "    <\/tr>\n",
       "    <tr>\n",
       "      <th>1<\/th>\n",
       "      <td>zeo31j<\/td>\n",
       "      <td>Now THAT is a proper disaster recovery plan!<\/td>\n",
       "    <\/tr>\n",
       "    <tr>\n",
       "      <th>2<\/th>\n",
       "      <td>zeo31j<\/td>\n",
       "      <td>[deleted]<\/td>\n",
       "    <\/tr>\n",
       "    <tr>\n",
       "      <th>3<\/th>\n",
       "      <td>zeo31j<\/td>\n",
       "      <td>Got half way through the last paragraph and ki...<\/td>\n",
       "    <\/tr>\n",
       "    <tr>\n",
       "      <th>4<\/th>\n",
       "      <td>zeo31j<\/td>\n",
       "      <td>This is the content I live for, good on you OP!<\/td>\n",
       "    <\/tr>\n",
       "    <tr>\n",
       "      <th>...<\/th>\n",
       "      <td>...<\/td>\n",
       "      <td>...<\/td>\n",
       "    <\/tr>\n",
       "    <tr>\n",
       "      <th>511471<\/th>\n",
       "      <td>14eoyyx<\/td>\n",
       "      <td>You're the one crying about how you can't fix ...<\/td>\n",
       "    <\/tr>\n",
       "    <tr>\n",
       "      <th>511472<\/th>\n",
       "      <td>14eoyyx<\/td>\n",
       "      <td>With our current level of technology, we canno...<\/td>\n",
       "    <\/tr>\n",
       "    <tr>\n",
       "      <th>511473<\/th>\n",
       "      <td>14eoyyx<\/td>\n",
       "      <td>So have you done a single thing that I wrote a...<\/td>\n",
       "    <\/tr>\n",
       "    <tr>\n",
       "      <th>511474<\/th>\n",
       "      <td>14eoyyx<\/td>\n",
       "      <td>Yes, and guess what; your brain doesn't do a f...<\/td>\n",
       "    <\/tr>\n",
       "    <tr>\n",
       "      <th>511475<\/th>\n",
       "      <td>14eoyyx<\/td>\n",
       "      <td>Wow there ok the coolaid.<\/td>\n",
       "    <\/tr>\n",
       "  <\/tbody>\n",
       "<\/table>\n",
       "<p>511476 rows × 2 columns<\/p>\n",
       "<\/div>"
      ]
     },
     "metadata":{
      
     },
     "output_type":"display_data"
    }
   ],
   "metadata":{
    "datalore":{
     "node_id":"07zIMrhDfedF5Ao8WfklOR",
     "type":"CODE",
     "hide_input_from_viewers":true,
     "hide_output_from_viewers":true
    }
   }
  }
 ],
 "metadata":{
  "kernelspec":{
   "display_name":"Python",
   "language":"python",
   "name":"python"
  },
  "datalore":{
   "computation_mode":"JUPYTER",
   "package_manager":"pip",
   "base_environment":"default",
   "packages":[
    {
     "name":"prewl",
     "source":"PIP"
    },
    {
     "name":"praw",
     "version":"7.7.0",
     "source":"PIP"
    }
   ],
   "report_row_ids":[
    
   ],
   "version":3
  }
 },
 "nbformat":4,
 "nbformat_minor":4
}